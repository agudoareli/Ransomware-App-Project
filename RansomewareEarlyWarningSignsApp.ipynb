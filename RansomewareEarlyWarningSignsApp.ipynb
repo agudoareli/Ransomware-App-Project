{
  "nbformat": 4,
  "nbformat_minor": 0,
  "metadata": {
    "colab": {
      "provenance": [],
      "authorship_tag": "ABX9TyMjd5nPWOfmrcp8Lga0l6Sg"
    },
    "kernelspec": {
      "name": "python3",
      "display_name": "Python 3"
    },
    "language_info": {
      "name": "python"
    }
  },
  "cells": [
    {
      "cell_type": "code",
      "execution_count": null,
      "metadata": {
        "id": "zJw0AilvV9dI"
      },
      "outputs": [],
      "source": [
        "# An educational app that combines technical warning signs with real-world spikes in public attention."
      ]
    },
    {
      "cell_type": "code",
      "source": [
        "!pip install gradio --quiet"
      ],
      "metadata": {
        "id": "7vsmgLHBnwCY"
      },
      "execution_count": null,
      "outputs": []
    },
    {
      "cell_type": "code",
      "source": [
        "import gradio as gr # imports gradio and calls it gr\n",
        "from pytrends.request import TrendReq # allows us to get data from google trends\n",
        "import matplotlib.pyplot as plt # used to make charts and save them as images\n",
        "import pandas as pd # helps us work with data tables\n",
        "from datetime import datetime # helps us work with date and time\n",
        "\n",
        "google_trends_connection = TrendReq(hl='en-US', tz=360) # connects this app to google trends, asks for data in English (hl) and in UTC+6 timeszone (tz)\n",
        "early_warning_signs = []  # make a str list of early warning signs from the given documents\n",
        "prevention_tips = [] # make a str list of prevention tips from the given documents\n",
        "\n",
        "def fetch_google_trends(keyword): # define a functin to fetch the google trends using a keyword\n",
        "  google_trends_connection.build_payload([keyword], cat=0, timeframe='today 12-m', geo='', gprop='')\n",
        "  # [keyword]: a list of the search term\n",
        "  # cat=0: no specific category\n",
        "  # timeframe='today 12-m': search from the last 12 months of data\n",
        "  # geo='': no specific country\n",
        "  # gprop='': no search filter, search from any info source\n",
        "  data = google_trends_connection.interest_over_time() # downloads the trend data as a table, rows = days/weeks, cols = the frequency of search for the keyword\n",
        "  if not data:\n",
        "    return \"No data available for this keyword.\"\n",
        "  # Plotting the data\n",
        "  plt.figure(figsize=(10, 4)) # make a chart, 10 cols, 4 rows\n",
        "  plt.plot(data.index, data[keyword], label=keyword)  # draws a line on the chart and plots the dates, how popular the keyword was per date, adds a label\n",
        "  plt.title(f\"Google Trends: {keyword}\")  # adds a title to the top of the chart\n",
        "  plt.xlabel(\"Date\")  # labels the x axis as Date\n",
        "  plt.ylabel(\"Interest\")  # labels the y axis as interest\n",
        "  plt.grid(True)  # adds grid lines to teh chart\n",
        "  plt.tight_layout()  # makes sure nothing in the chart is cut off or overlapping\n",
        "  plot_filename = \"trend_plot.png\"  # choose a file name before saving the chart\n",
        "  plt.savefig(plot_filename)  # save the chart as a png\n",
        "  plt.close() # remove the chart from memory\n",
        "  return f\"Trend data for '{keyword}' shown below.\", plot_filename  # show the user a message and the image file that was saved\n",
        "\n",
        "\n",
        "\n",
        "  '''\n",
        "  # ------------------------------\n",
        "# Step 4: Gradio interface functions\n",
        "# ------------------------------\n",
        "def show_warning_signs():\n",
        "    return \"\\n\".join(f\"- {sign}\" for sign in early_warning_signs)\n",
        "\n",
        "def show_prevention_tips():\n",
        "    return \"\\n\".join(f\"- {tip}\" for tip in prevention_tips)\n",
        "\n",
        "# ------------------------------\n",
        "# Step 5: Gradio UI Setup\n",
        "# ------------------------------\n",
        "with gr.Blocks(title=\"Ransomware Early Warning App\") as demo:\n",
        "    gr.Markdown(\"## 🔒 Ransomware Early Warning Signs App\")\n",
        "    gr.Markdown(\"This tool helps visualize early indicators of ransomware and correlates them with spikes in public concern using Google Trends.\")\n",
        "\n",
        "    with gr.Tab(\"📛 Early Warning Signs\"):\n",
        "        warning_output = gr.Textbox(label=\"Known Early Warning Signs\", lines=10)\n",
        "        gr.Button(\"Show Signs\").click(fn=show_warning_signs, outputs=warning_output)\n",
        "\n",
        "    with gr.Tab(\"🔍 Google Trends\"):\n",
        "        keyword_input = gr.Textbox(label=\"Enter search term (e.g. 'files encrypted')\", placeholder=\"ransomware removal\")\n",
        "        trend_text = gr.Textbox(label=\"Trend Info\")\n",
        "        trend_plot = gr.Image(label=\"Google Trends Plot\")\n",
        "        gr.Button(\"Fetch Trend Data\").click(fn=fetch_trends, inputs=keyword_input, outputs=[trend_text, trend_plot])\n",
        "\n",
        "    with gr.Tab(\"🛡️ Prevention Tips\"):\n",
        "        tips_output = gr.Textbox(label=\"Prevention Tips\", lines=10)\n",
        "        gr.Button(\"Show Tips\").click(fn=show_prevention_tips, outputs=tips_output)\n",
        "\n",
        "# ------------------------------\n",
        "# Step 6: Launch the app\n",
        "# ------------------------------\n",
        "demo.launch()\n",
        "  '''\n",
        "\n",
        "\n"
      ],
      "metadata": {
        "colab": {
          "base_uri": "https://localhost:8080/",
          "height": 643
        },
        "id": "w2pmSrssmwsH",
        "outputId": "dd07eca8-9571-4417-ce5a-d73b80a798f2"
      },
      "execution_count": null,
      "outputs": [
        {
          "output_type": "stream",
          "name": "stdout",
          "text": [
            "Colab notebook detected. This cell will run indefinitely so that you can see errors and logs. To turn off, set debug=False in launch().\n",
            "* Running on public URL: https://f6a5c0ba5edda89e65.gradio.live\n",
            "\n",
            "This share link expires in 1 week. For free permanent hosting and GPU upgrades, run `gradio deploy` from the terminal in the working directory to deploy to Hugging Face Spaces (https://huggingface.co/spaces)\n"
          ]
        },
        {
          "output_type": "display_data",
          "data": {
            "text/plain": [
              "<IPython.core.display.HTML object>"
            ],
            "text/html": [
              "<div><iframe src=\"https://f6a5c0ba5edda89e65.gradio.live\" width=\"100%\" height=\"500\" allow=\"autoplay; camera; microphone; clipboard-read; clipboard-write;\" frameborder=\"0\" allowfullscreen></iframe></div>"
            ]
          },
          "metadata": {}
        },
        {
          "output_type": "stream",
          "name": "stdout",
          "text": [
            "Keyboard interruption in main thread... closing server.\n",
            "Killing tunnel 127.0.0.1:7861 <> https://f6a5c0ba5edda89e65.gradio.live\n"
          ]
        },
        {
          "output_type": "execute_result",
          "data": {
            "text/plain": []
          },
          "metadata": {},
          "execution_count": 5
        }
      ]
    },
    {
      "cell_type": "code",
      "source": [],
      "metadata": {
        "id": "hQKL8WRjpM87"
      },
      "execution_count": null,
      "outputs": []
    }
  ]
}